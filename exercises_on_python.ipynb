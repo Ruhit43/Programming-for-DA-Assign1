{
  "nbformat": 4,
  "nbformat_minor": 0,
  "metadata": {
    "colab": {
      "provenance": [],
      "authorship_tag": "ABX9TyOocsYt4LU0fb+bqzTB+NOB",
      "include_colab_link": true
    },
    "kernelspec": {
      "name": "python3",
      "display_name": "Python 3"
    },
    "language_info": {
      "name": "python"
    }
  },
  "cells": [
    {
      "cell_type": "markdown",
      "metadata": {
        "id": "view-in-github",
        "colab_type": "text"
      },
      "source": [
        "<a href=\"https://colab.research.google.com/github/Ruhit43/Programming-for-DA-Assign1/blob/main/exercises_on_python.ipynb\" target=\"_parent\"><img src=\"https://colab.research.google.com/assets/colab-badge.svg\" alt=\"Open In Colab\"/></a>"
      ]
    },
    {
      "cell_type": "code",
      "execution_count": null,
      "metadata": {
        "colab": {
          "base_uri": "https://localhost:8080/"
        },
        "id": "BaGZ3iiYksNq",
        "outputId": "b5d0beff-7cd1-43a6-d8f5-2f3eae40aceb"
      },
      "outputs": [
        {
          "output_type": "stream",
          "name": "stdout",
          "text": [
            "45\n"
          ]
        }
      ],
      "source": [
        "#Ex. 3.1\n",
        "#Function to sum first n numbers\n",
        "def good(n):\n",
        "  s=0\n",
        "  for i in range(n):\n",
        "    s=s+i\n",
        "  print(s)\n",
        "good(10)"
      ]
    },
    {
      "cell_type": "code",
      "source": [
        "#Ex. 3.2 #f32\n",
        "#If we list all the natural numbers below 10 that are multiples of 3 or 5, \n",
        "#we get 3, 5, 6 and 9. The sum of these multiples is 23.\n",
        "#Create a function to find the sum of all the multiples of a or b below n.\n",
        "# (a,b,n) are function parameters\n",
        "def brown(a,b,n):\n",
        "  sum1= 0\n",
        "  for i in range(n):\n",
        "    if i%3==0:\n",
        "      sum1= sum1+i\n",
        "    elif i%5==0:\n",
        "      sum1= sum1+i\n",
        "  print(sum1)\n",
        "\n",
        "brown(3,5,10)"
      ],
      "metadata": {
        "colab": {
          "base_uri": "https://localhost:8080/"
        },
        "id": "RrX2tvaymhhB",
        "outputId": "81124d20-7396-4f53-97c1-2e55f31003bb"
      },
      "execution_count": null,
      "outputs": [
        {
          "output_type": "stream",
          "name": "stdout",
          "text": [
            "23\n"
          ]
        }
      ]
    },
    {
      "cell_type": "code",
      "source": [
        "#Ex 3.3\n",
        "#Create a function to find the sum of all the multiples of a or b in list l.\n",
        "# (a,b,l) are function parameters\n",
        "def boom(a,b,l):\n",
        "  sum1=0\n",
        "  for i in l:\n",
        "    if i%a==0:\n",
        "      sum1=sum1+i\n",
        "    elif i%b==0:\n",
        "      sum1=sum1+i\n",
        "  print(sum1)\n",
        "boom(3,5,[3,6,5,9])\n"
      ],
      "metadata": {
        "colab": {
          "base_uri": "https://localhost:8080/"
        },
        "id": "aGQvu0NOoTLN",
        "outputId": "78c2f51a-0585-49d6-c4aa-eec3f8eba572"
      },
      "execution_count": null,
      "outputs": [
        {
          "output_type": "stream",
          "name": "stdout",
          "text": [
            "23\n"
          ]
        }
      ]
    },
    {
      "cell_type": "code",
      "source": [
        "#Ex 3.4\n",
        "#Create a function to find the sum of all \n",
        "#the multiples of factors in list a  contained in list l.\n",
        "# (a,l) are function parameters and len(a) == 2\n",
        "def boom1(a,l):\n",
        "  sum1=0\n",
        "  if len(a)==2:\n",
        "    for j in a:\n",
        "      for i in l:\n",
        "        if i% j ==0:\n",
        "          sum1=sum1+i\n",
        "  print(sum1)\n",
        "boom1([3,5],[3,6,5,9])"
      ],
      "metadata": {
        "id": "c6IQNbWBtZqs",
        "colab": {
          "base_uri": "https://localhost:8080/"
        },
        "outputId": "c9d70932-0197-4c92-9f25-c97b18e9c9de"
      },
      "execution_count": null,
      "outputs": [
        {
          "output_type": "stream",
          "name": "stdout",
          "text": [
            "23\n"
          ]
        }
      ]
    },
    {
      "cell_type": "code",
      "source": [
        "#Ex 3.5\n",
        "#Create a function to find the sum of all \n",
        "#the multiples of factors in list a contained in list l.\n",
        "# (a,l) are function parameters\n",
        "#f([2,3,5,7],list(range(1000)))385788\n",
        "#f([2,3,5,7,11],list(range(1000))) 396205\n",
        "def boom3(a, l):\n",
        "    sum1 = 0\n",
        "    for k in l:\n",
        "        for i in a:\n",
        "            if k % i == 0:\n",
        "                sum1 += k\n",
        "                break\n",
        "    return sum1\n",
        "#boom3([2,3,5,7],list(range(1000)))\n",
        "boom3([2,3,5,7,11],list(range(1000)))"
      ],
      "metadata": {
        "colab": {
          "base_uri": "https://localhost:8080/"
        },
        "id": "-xJZKImPPxBz",
        "outputId": "1ef2bb7a-ea4c-47d6-ced0-f59030c35ce5"
      },
      "execution_count": null,
      "outputs": [
        {
          "output_type": "execute_result",
          "data": {
            "text/plain": [
              "396205"
            ]
          },
          "metadata": {},
          "execution_count": 2
        }
      ]
    },
    {
      "cell_type": "code",
      "source": [
        "a=[8,6,3,9,2]\n",
        "print(len(a))\n",
        "for k in range(len(a)):\n",
        "  print(a[k])\n",
        "#why this does not work"
      ],
      "metadata": {
        "colab": {
          "base_uri": "https://localhost:8080/"
        },
        "id": "bG5M4tPSUlBY",
        "outputId": "daf93567-4c45-4c03-9561-860eec702c13"
      },
      "execution_count": null,
      "outputs": [
        {
          "output_type": "stream",
          "name": "stdout",
          "text": [
            "5\n",
            "8\n",
            "6\n",
            "3\n",
            "9\n",
            "2\n"
          ]
        }
      ]
    },
    {
      "cell_type": "code",
      "source": [
        "def boom(a,l):\n",
        "  sum1=0\n",
        "  for k in range(len(a)):\n",
        "    for i in l:\n",
        "      if l[i]%a[k]==0:\n",
        "        sum1=sum1+l[i]\n",
        "  print(sum1)\n",
        "boom([2,3,5,7],list(range(10)))\n",
        "boom([2,3,5,7,11],list(range(10)))"
      ],
      "metadata": {
        "colab": {
          "base_uri": "https://localhost:8080/"
        },
        "id": "2AzF__wAXM7_",
        "outputId": "dd103841-bf53-4371-82e7-9a2b1ed2787b"
      },
      "execution_count": null,
      "outputs": [
        {
          "output_type": "stream",
          "name": "stdout",
          "text": [
            "50\n",
            "50\n"
          ]
        }
      ]
    },
    {
      "cell_type": "code",
      "source": [
        "#Ex 3.4\n",
        "#Create a function to find the sum of all \n",
        "#the multiples of factors in list a  contained in list l.\n",
        "# (a,l) are function parameters and len(a) == 2\n",
        "def boom1(a,l):\n",
        "  sum1=0\n",
        "  for j in a:\n",
        "    for i in l:\n",
        "      if i% j ==0:\n",
        "        sum1=sum1+i\n",
        "  print(sum1)\n",
        "boom1([3,5],[3,6,5,9])\n",
        "\n",
        "#Ex 3.5\n",
        "#Create a function to find the sum of all \n",
        "#the multiples of factors in list a contained in list l.\n",
        "# (a,l) are function parameters\n",
        "#f([2,3,5,7],list(range(1000)))385788\n",
        "#f([2,3,5,7,11],list(range(1000))) 396205\n",
        "def boom3(a, l):\n",
        "    sum1 = 0\n",
        "    for k in l:\n",
        "        for i in a:\n",
        "            if k % i == 0:\n",
        "                sum1 += k\n",
        "                break\n",
        "    return sum1\n",
        "boom3([2,3,5,7],list(range(1000)))\n",
        "boom3([2,3,5,7,11],list(range(1000)))\n",
        "\n",
        "\n",
        "#Ex 4.1\n",
        "#Create a function to find the sum of all \n",
        "#the multiples of factors in file with filename a \n",
        "#contained in list file with filename b, each one number per line.\n",
        "# (a,b) are function parameters\n",
        "\n",
        "#Ex 4.2\n",
        "#Be efficient\n",
        "\n",
        "#Ex 4.3\n",
        "#Keep your code DRY (No repetition of previous code)\n",
        "def foot():\n",
        "  with open('/content/y.txt', 'r') as y:\n",
        "    values1 = [int(line.strip()) for line in y.readlines()]\n",
        "    \n",
        "  with open('/content/g.txt', 'r') as g:\n",
        "    values2 = [int(line.strip()) for line in g.readlines()]\n",
        "\n",
        "  boom1(values1,values2)\n",
        "\n",
        "foot()\n",
        "\n",
        "\n",
        "#Ex 5.1\n",
        "#Create a function which takes an input filename and an output filename, and writes the output as follows:\n",
        "\n",
        "#for input file with each line formatted as follows:\n",
        "#n a1 a2 ...\n",
        "#eg\n",
        "#1000 3 5\n",
        "\n",
        "#the output file should contain a line which is the same, prepended by the result of f35([a1,a2...],range(n))\n",
        "#eg\n",
        "#233168 1000 3 5\n",
        "\n",
        "#DRY\n",
        "\n",
        "def f51(ifn, ofn):\n",
        "    with open(ifn, 'r') as f:\n",
        "        lines = f.readlines()\n",
        "\n",
        "    with open(ofn, 'w') as f:\n",
        "        for line in lines:\n",
        "            nums = list(map(int, line.split()))\n",
        "            result = boom1(nums[1:], range(nums[0]))\n",
        "            f.write(f\"{result} {' '.join(map(str, nums))}\\n\")\n",
        "\n",
        "def runf51():\n",
        "    with open('input', 'w') as f:\n",
        "        f.write('''10 3 5\n",
        "1000 3 5\n",
        "1000 2 3 5''')\n",
        "\n",
        "    f51('input', 'output')\n"
      ],
      "metadata": {
        "colab": {
          "base_uri": "https://localhost:8080/"
        },
        "id": "-rx9PZpVYkbE",
        "outputId": "37adea3e-1f95-4f59-ba6c-b3965b198e4b"
      },
      "execution_count": null,
      "outputs": [
        {
          "output_type": "stream",
          "name": "stdout",
          "text": [
            "23\n",
            "23\n"
          ]
        }
      ]
    },
    {
      "cell_type": "code",
      "source": [
        "from google.colab import drive\n",
        "drive.mount('/content/drive')"
      ],
      "metadata": {
        "id": "Y6UP3h3_3qWO"
      },
      "execution_count": null,
      "outputs": []
    },
    {
      "cell_type": "code",
      "source": [
        "#y = open('/content/y.txt', 'r')\n",
        "with open('/content/y.txt', 'r') as y:\n",
        "#g = open('/content/g.txt', 'r')\n",
        "  line1=y.readlines()\n",
        "  second_line = line1[1].strip()\n",
        "  print(second_line)\n",
        "\n",
        "\n",
        "with open('/content/y.txt', 'r') as y:\n",
        "    lines = y.readlines()\n",
        "    values = [line.strip() for line in lines]\n",
        "    print(type(values))"
      ],
      "metadata": {
        "colab": {
          "base_uri": "https://localhost:8080/",
          "height": 242
        },
        "id": "i0d6oO3UBqpS",
        "outputId": "bce94e4e-505c-4fd7-dc91-aec4a3f1de19"
      },
      "execution_count": null,
      "outputs": [
        {
          "output_type": "error",
          "ename": "FileNotFoundError",
          "evalue": "ignored",
          "traceback": [
            "\u001b[0;31m---------------------------------------------------------------------------\u001b[0m",
            "\u001b[0;31mFileNotFoundError\u001b[0m                         Traceback (most recent call last)",
            "\u001b[0;32m<ipython-input-10-341be5d04a04>\u001b[0m in \u001b[0;36m<module>\u001b[0;34m\u001b[0m\n\u001b[1;32m      1\u001b[0m \u001b[0;31m#y = open('/content/y.txt', 'r')\u001b[0m\u001b[0;34m\u001b[0m\u001b[0;34m\u001b[0m\u001b[0m\n\u001b[0;32m----> 2\u001b[0;31m \u001b[0;32mwith\u001b[0m \u001b[0mopen\u001b[0m\u001b[0;34m(\u001b[0m\u001b[0;34m'/content/y.txt'\u001b[0m\u001b[0;34m,\u001b[0m \u001b[0;34m'r'\u001b[0m\u001b[0;34m)\u001b[0m \u001b[0;32mas\u001b[0m \u001b[0my\u001b[0m\u001b[0;34m:\u001b[0m\u001b[0;34m\u001b[0m\u001b[0;34m\u001b[0m\u001b[0m\n\u001b[0m\u001b[1;32m      3\u001b[0m \u001b[0;31m#g = open('/content/g.txt', 'r')\u001b[0m\u001b[0;34m\u001b[0m\u001b[0;34m\u001b[0m\u001b[0m\n\u001b[1;32m      4\u001b[0m   \u001b[0mline1\u001b[0m\u001b[0;34m=\u001b[0m\u001b[0my\u001b[0m\u001b[0;34m.\u001b[0m\u001b[0mreadlines\u001b[0m\u001b[0;34m(\u001b[0m\u001b[0;34m)\u001b[0m\u001b[0;34m\u001b[0m\u001b[0;34m\u001b[0m\u001b[0m\n\u001b[1;32m      5\u001b[0m   \u001b[0msecond_line\u001b[0m \u001b[0;34m=\u001b[0m \u001b[0mline1\u001b[0m\u001b[0;34m[\u001b[0m\u001b[0;36m1\u001b[0m\u001b[0;34m]\u001b[0m\u001b[0;34m.\u001b[0m\u001b[0mstrip\u001b[0m\u001b[0;34m(\u001b[0m\u001b[0;34m)\u001b[0m\u001b[0;34m\u001b[0m\u001b[0;34m\u001b[0m\u001b[0m\n",
            "\u001b[0;31mFileNotFoundError\u001b[0m: [Errno 2] No such file or directory: '/content/y.txt'"
          ]
        }
      ]
    },
    {
      "cell_type": "code",
      "source": [
        "#3.5\n",
        "def boom3(a, l):\n",
        "    sum1 = 0\n",
        "    for k in range(len(a)):\n",
        "        for i in l:\n",
        "            if i % a[k] == 0:\n",
        "                sum1 += i\n",
        "    return sum1\n",
        "\n",
        "#Ex 5.1\n",
        "#Create a function which takes an input filename and an output filename, and writes the \n",
        "#output as follows:\n",
        "\n",
        "#for input file with each line formatted as follows:\n",
        "#n a1 a2 ...\n",
        "#eg\n",
        "#1000 3 5\n",
        "\n",
        "#the output file should contain a line which is the same, prepended by the result of f35([a1,a2...],range(n))\n",
        "#eg\n",
        "#233168 1000 3 5\n",
        "\n",
        "#DRY\n",
        "\n",
        "def f51(ifn, ofn):\n",
        "    with open(ifn, 'r') as f:\n",
        "        lines = f.readlines()\n",
        "\n",
        "    with open(ofn, 'w') as f:\n",
        "        for line in lines:\n",
        "            nums = list(map(int, line.split()))\n",
        "            result = boom3(nums[1:], range(nums[0]))\n",
        "            f.write(f\"{result} {' '.join(map(str, nums))}\\n\")\n",
        "\n",
        "def runf51():\n",
        "    with open('input', 'w') as f:\n",
        "        f.write('''10 3 5\n",
        "1000 3 5\n",
        "1000 2 3 5''')\n",
        "\n",
        "    f51('input', 'output')\n",
        "\n",
        "runf51()\n",
        "\n",
        "#Ex 6.1\n",
        "#Handle file not found errors in Ex 5.1 - write empty file.\n",
        "#write to a file <outputfilename>(1) if the file exists\n",
        "\n",
        "#Ex 6.2\n",
        "#Handle corrupt lines by ignoring them and prepending 'Corrupt' to the line in the output file\n",
        "#'10 3 5 2' -> '37 10 3 5 2'\n",
        "#'10 3 5 Hello' -> 'Corrupt 10 3 5 Hello'\n",
        "#'10 3 5' -> '23 10 3 5'\n",
        "\n",
        "#Ex 6.3\n",
        "#Handle corrupt values by ignoring them:\n",
        "#'10 3 5 Hello' -> '23 10 3 5 Hello'\n",
        "\n",
        "\n"
      ],
      "metadata": {
        "id": "93rVHVG_wSF4"
      },
      "execution_count": null,
      "outputs": []
    },
    {
      "cell_type": "code",
      "source": [
        "#6.2\n",
        "def f51(ifn, ofn):\n",
        "      with open(ifn, 'r') as f:\n",
        "          lines = f.readlines()\n",
        "      \n",
        "      with open(ofn, 'w') as f:\n",
        "              for line in lines:\n",
        "                try:\n",
        "                  nums = list(map(int, line.split()))\n",
        "                  result = boom3(nums[1:], range(nums[0]))\n",
        "                  f.write(f\"{result} {' '.join(map(str, nums))}\\n\")\n",
        "                except Exception:\n",
        "                    f.write(f\"Corrupt {line}\")\n",
        "\n",
        "\n",
        "def runf51():\n",
        "    with open('myInput', 'w') as f:\n",
        "        f.write('''10 3 5\n",
        "1000 3 5 hello\n",
        "1000 2 3 5''')\n",
        "\n",
        "    f51('myInput', 'myOutput')\n",
        "\n",
        "runf51()"
      ],
      "metadata": {
        "id": "f05WiDzaQGUl"
      },
      "execution_count": null,
      "outputs": []
    },
    {
      "cell_type": "code",
      "source": [
        "#6.3\n",
        "def f51(ifn, ofn):\n",
        "      with open(ifn, 'r') as f:\n",
        "          lines = f.readlines()\n",
        "      \n",
        "      with open(ofn, 'w') as f:\n",
        "              for line in lines:\n",
        "                try:\n",
        "                  nums = list(map(int, line.split()))\n",
        "                  result = boom3(nums[1:], range(nums[0]))\n",
        "                  f.write(f\"{result} {' '.join(map(str, nums))}\\n\")\n",
        "                except Exception:\n",
        "                  if nums==int:\n",
        "                    f.write(f\"{result}{line} \\n\")\n",
        "                  else:\n",
        "                    print(\"the whole\")\n",
        "\n",
        "def runf51():\n",
        "    with open('myInput23', 'w') as f:\n",
        "        f.write('''10 3 5 \n",
        "1000 3 5 hello\n",
        "1000 2 3 5''')\n",
        "\n",
        "    f51('myInput23', 'myOutput23')\n",
        "\n",
        "runf51()"
      ],
      "metadata": {
        "id": "O_41Uyw-dq1k",
        "colab": {
          "base_uri": "https://localhost:8080/"
        },
        "outputId": "1b63edff-f05f-4fb9-d1b5-c8b77578f0cf"
      },
      "execution_count": null,
      "outputs": [
        {
          "output_type": "stream",
          "name": "stdout",
          "text": [
            "the whole\n",
            "the whole\n",
            "the whole\n"
          ]
        }
      ]
    },
    {
      "cell_type": "code",
      "source": [
        "a=[1000,3,5,\"hello\"]\n",
        "print(a)"
      ],
      "metadata": {
        "colab": {
          "base_uri": "https://localhost:8080/"
        },
        "id": "z1bmaK5sgqDB",
        "outputId": "c3caf4d1-b7af-48e5-f129-9796b8f9f410"
      },
      "execution_count": null,
      "outputs": [
        {
          "output_type": "stream",
          "name": "stdout",
          "text": [
            "[1000, 3, 5, 'hello']\n"
          ]
        }
      ]
    },
    {
      "cell_type": "code",
      "source": [
        "#7.1 \n",
        "#Create a function taking a dictionary called basket and a dictionary called prices\n",
        "#which returns the total cost of the items in the basket.\n",
        "#basket contains quantity values for each key, while \n",
        "#prices (obviously) contains product:price pairs\n",
        "\n",
        "#7.2 deal with missing products etc.\n",
        "\n",
        "#7.1 & 7.2\n",
        "def cal_price(a,b):\n",
        "  total_price=0\n",
        "  for fruit in a:\n",
        "    if fruit in b:\n",
        "      total_price +=a[fruit]*b[fruit]\n",
        "    else:\n",
        "      print(fruit,\"is not in price\")\n",
        "  for fruit in b:\n",
        "    if fruit  not in a:\n",
        "      print(fruit,\"is not in basket\")\n",
        "\n",
        "  return total_price\n",
        "\n",
        "\n",
        "cal_price({\"apple\": 3,\"banana\": 2, \"mango\": 7, \"pineapple\": 2},{\"apple\": 20, \"banana\": 22, \"mango\": 30, \"jackfruit\": 15})\n",
        "#cal_price({\"apple\": 3,\"banana\": 2, \"mango\": 7},{\"apple\": 20, \"banana\": 22, \"mango\": 30, \"jackfruit\": 15})\n"
      ],
      "metadata": {
        "id": "nbuOKL063otr",
        "colab": {
          "base_uri": "https://localhost:8080/",
          "height": 72
        },
        "outputId": "550da8c1-55d3-41b8-dfa0-b10b449b0266"
      },
      "execution_count": null,
      "outputs": [
        {
          "output_type": "stream",
          "name": "stdout",
          "text": [
            "pineapple is not in price\n",
            "jackfruit is not in basket\n"
          ]
        },
        {
          "output_type": "execute_result",
          "data": {
            "text/plain": [
              "'Value is 314'"
            ],
            "application/vnd.google.colaboratory.intrinsic+json": {
              "type": "string"
            }
          },
          "metadata": {},
          "execution_count": 17
        }
      ]
    },
    {
      "cell_type": "code",
      "source": [
        "basket = {\"apple\": 3,\"banana\": 2, \"mango\": 7,\"pineapple\": 4}\n",
        "price ={\"apple\": 20, \"banana\": 22, \"mango\": 30, \"jackfruit\": 15}\n",
        "total_cost=0\n",
        "for fruit in basket:\n",
        "  if fruit in price:\n",
        "    total_cost +=basket[fruit]*price[fruit]\n",
        "  elif fruit in basket:\n",
        "    print(fruit,\"is not in the price\")\n",
        "for fruit in price:\n",
        "  if fruit not in basket:\n",
        "    print(fruit,\"is not in the basket\")\n",
        "  \n",
        "\n",
        "print(total_cost)"
      ],
      "metadata": {
        "colab": {
          "base_uri": "https://localhost:8080/"
        },
        "id": "k-gzvJg-gvEq",
        "outputId": "4ccecedb-2fdd-4104-9e3b-91c305c1d33b"
      },
      "execution_count": null,
      "outputs": [
        {
          "output_type": "stream",
          "name": "stdout",
          "text": [
            "pineapple is not in the price\n",
            "jackfruit is not in the basket\n",
            "314\n"
          ]
        }
      ]
    },
    {
      "cell_type": "code",
      "source": [
        "#8.1\n",
        "#Create a basket class\n",
        "#allow items to be added\n",
        "#create getValue method taking a pricelist\n",
        "class basket:\n",
        "  def __init__(self):\n",
        "    self.items={}\n",
        "    self.prices={}\n",
        "\n",
        "  def add_items(self,items):\n",
        "    self.items.update(items)\n",
        "    \n",
        "  def getPrices(self,prices):\n",
        "    self.prices.update(prices)\n",
        "\n",
        "  def getValue(self):\n",
        "      total_cost=0\n",
        "      for fruit in self.items:\n",
        "        if fruit in self.prices:\n",
        "          total_cost +=self.items[fruit]*self.prices[fruit]\n",
        "        elif fruit in self.items:\n",
        "          print(fruit,\"is not in the price\")\n",
        "      for fruit in self.prices:\n",
        "        if fruit not in self.items:\n",
        "          print(fruit,\"is not in the basket\")\n",
        "      return \"Total price is \"+str(total_cost)\n",
        "\n",
        "\n",
        "b1=basket()\n",
        "\n",
        "b1.add_items({'apple': 5, 'banana': 3})\n",
        "print(b1.items)\n",
        "b1.add_items({'jackfruit': 6, 'pineapple': 7})\n",
        "print(b1.items)\n",
        "b1.getPrices({\"apple\": 20, \"banana\": 22, \"mango\": 30, \"jackfruit\": 15,'jackfruit': 18, 'pineapple': 25})\n",
        "print(b1.prices)\n",
        "b1.getValue()"
      ],
      "metadata": {
        "id": "y-aquiAg-cKu",
        "colab": {
          "base_uri": "https://localhost:8080/",
          "height": 108
        },
        "outputId": "48e42d44-7290-4c45-baca-02907bfb1b69"
      },
      "execution_count": null,
      "outputs": [
        {
          "output_type": "stream",
          "name": "stdout",
          "text": [
            "{'apple': 5, 'banana': 3}\n",
            "{'apple': 5, 'banana': 3, 'jackfruit': 6, 'pineapple': 7}\n",
            "{'apple': 20, 'banana': 22, 'mango': 30, 'jackfruit': 18, 'pineapple': 25}\n",
            "mango is not in the basket\n"
          ]
        },
        {
          "output_type": "execute_result",
          "data": {
            "text/plain": [
              "'Total price is 449'"
            ],
            "application/vnd.google.colaboratory.intrinsic+json": {
              "type": "string"
            }
          },
          "metadata": {},
          "execution_count": 20
        }
      ]
    },
    {
      "cell_type": "code",
      "source": [
        "#Create an account class\n",
        "#getBalance,Lodge,Withdraw\n",
        "#Test balance is zero on creation\n",
        "#Test balance is equal to lodgement amount after first lodgement"
      ],
      "metadata": {
        "id": "g7N3DwGQF9Vi"
      },
      "execution_count": null,
      "outputs": []
    },
    {
      "cell_type": "code",
      "source": [
        "class Account:\n",
        "  def __init__(self):\n",
        "    self.__balance=0\n",
        "  def getBalance(self):\n",
        "    return self.__balance\n",
        "  def lodge(self,amt):\n",
        "    self.__balance = amt"
      ],
      "metadata": {
        "id": "_ratTRbvYlKi"
      },
      "execution_count": null,
      "outputs": []
    },
    {
      "cell_type": "code",
      "source": [
        "import unittest"
      ],
      "metadata": {
        "id": "QnfdYYMcN5U2"
      },
      "execution_count": null,
      "outputs": []
    },
    {
      "cell_type": "code",
      "source": [
        "class testAccount(unittest.TestCase):\n",
        "  def testInitialBalance(self):\n",
        "    a=Account()\n",
        "    self.assertEqual(a.getBalance(),0)\n",
        "  def testLodge(self):\n",
        "    a=Account()\n",
        "    a.lodge(100)\n",
        "    self.assertEqual(a.getBalance(),100)\n",
        "  def testLodgeMore(self):\n",
        "    pass"
      ],
      "metadata": {
        "id": "ucciOU7HN0gE"
      },
      "execution_count": null,
      "outputs": []
    },
    {
      "cell_type": "code",
      "source": [
        "class Account:\n",
        "    def __init__(self):\n",
        "        self.__balance = 0\n",
        "\n",
        "    def getBalance(self):\n",
        "        return self.__balance\n",
        "\n",
        "    def lodge(self, amt):\n",
        "        self.__balance = amt\n"
      ],
      "metadata": {
        "id": "ybEmehKvOC1U"
      },
      "execution_count": null,
      "outputs": []
    },
    {
      "cell_type": "code",
      "source": [
        "import unittest\n",
        "\n",
        "class Account:\n",
        "    def __init__(self):\n",
        "        self.__balance = 0\n",
        "\n",
        "    def getBalance(self):\n",
        "        return self.__balance\n",
        "\n",
        "    def lodge(self, amt):\n",
        "        self.__balance += amt\n",
        "    \n",
        "\n",
        "class testAccount(unittest.TestCase):\n",
        "    def testInitialBalance(self):\n",
        "        a = Account()\n",
        "        self.assertEqual(a.getBalance(), 0)\n",
        "\n",
        "    def testLodge(self):\n",
        "        a = Account()\n",
        "        a.lodge(100)\n",
        "        self.assertEqual(a.getBalance(), 100)\n",
        "\n",
        "    def testLodgeMore(self):\n",
        "        a = Account()\n",
        "        a.lodge(100)\n",
        "        a.lodge(50)\n",
        "        self.assertEqual(a.getBalance(), 150)\n",
        "\n",
        "\n",
        "    unittest.main()"
      ],
      "metadata": {
        "colab": {
          "base_uri": "https://localhost:8080/",
          "height": 332
        },
        "id": "roCECgUpOdqd",
        "outputId": "5a2e50b9-8bc2-42f5-a504-1fb9c9f9bdfa"
      },
      "execution_count": null,
      "outputs": [
        {
          "output_type": "stream",
          "name": "stderr",
          "text": [
            "E\n",
            "======================================================================\n",
            "ERROR: /root/ (unittest.loader._FailedTest)\n",
            "----------------------------------------------------------------------\n",
            "AttributeError: module '__main__' has no attribute '/root/'\n",
            "\n",
            "----------------------------------------------------------------------\n",
            "Ran 1 test in 0.003s\n",
            "\n",
            "FAILED (errors=1)\n"
          ]
        },
        {
          "output_type": "error",
          "ename": "SystemExit",
          "evalue": "ignored",
          "traceback": [
            "An exception has occurred, use %tb to see the full traceback.\n",
            "\u001b[0;31mSystemExit\u001b[0m\u001b[0;31m:\u001b[0m True\n"
          ]
        },
        {
          "output_type": "stream",
          "name": "stderr",
          "text": [
            "/usr/local/lib/python3.9/dist-packages/IPython/core/interactiveshell.py:3334: UserWarning: To exit: use 'exit', 'quit', or Ctrl-D.\n",
            "  warn(\"To exit: use 'exit', 'quit', or Ctrl-D.\", stacklevel=1)\n"
          ]
        }
      ]
    },
    {
      "cell_type": "code",
      "source": [
        "import unittest\n",
        "def t():\n",
        "  unittest.main(argv=['ignored'],exit=False)"
      ],
      "metadata": {
        "id": "gb7Kxx0NujZr"
      },
      "execution_count": null,
      "outputs": []
    },
    {
      "cell_type": "code",
      "source": [
        "class Account:\n",
        "    def __init__(self):\n",
        "        self.__balance = 0\n",
        "    \n",
        "    def getBalance(self):\n",
        "        return self.__balance\n",
        "    \n",
        "    def lodge(self, amt):\n",
        "        self.__balance += amt\n",
        "    \n",
        "    def withdraw(self, amt):\n",
        "        if amt < 0:\n",
        "            raise ValueError(\"Withdrawal amount must be positive.\")\n",
        "        if self.__balance < amt:\n",
        "            raise ValueError(\"Insufficient balance.\")\n",
        "        self.__balance -= amt\n",
        "    \n",
        "    def transfer(self, amt, rcpt):\n",
        "        self.withdraw(amt)\n",
        "        rcpt.lodge(amt)\n"
      ],
      "metadata": {
        "id": "yEkQnSBxrntD"
      },
      "execution_count": null,
      "outputs": []
    },
    {
      "cell_type": "code",
      "source": [
        "\n",
        "class TestAccount(unittest.TestCase):\n",
        "    def testInitialBalance(self):\n",
        "        a = Account()\n",
        "        self.assertEqual(a.getBalance(), 0)\n",
        "    \n",
        "    def testLodge(self):\n",
        "        a = Account()\n",
        "        a.lodge(100)\n",
        "        self.assertEqual(a.getBalance(), 100)\n",
        "    \n",
        "    def testLodgeMore(self):\n",
        "        a = Account()\n",
        "        a.lodge(100)\n",
        "        a.lodge(100)\n",
        "        self.assertEqual(a.getBalance(), 200)\n",
        "    \n",
        "    def testWithdraw(self):\n",
        "        a = Account()\n",
        "        a.lodge(1000)\n",
        "        a.withdraw(100)\n",
        "        self.assertEqual(a.getBalance(), 900)\n",
        "    \n",
        "    def testNegativeWithdraw(self):\n",
        "        a = Account()\n",
        "        a.lodge(1000)\n",
        "        with self.assertRaises(ValueError):\n",
        "            a.withdraw(-100)\n",
        "    \n",
        "    def testWithdrawMoreThanBalance(self):\n",
        "        a = Account()\n",
        "        a.lodge(100)\n",
        "        with self.assertRaises(ValueError):\n",
        "            a.withdraw(200)"
      ],
      "metadata": {
        "id": "7ItYbPOSsT9H"
      },
      "execution_count": null,
      "outputs": []
    },
    {
      "cell_type": "code",
      "source": [
        "t()"
      ],
      "metadata": {
        "colab": {
          "base_uri": "https://localhost:8080/"
        },
        "id": "8MxKBjEotTG7",
        "outputId": "75d1b839-b4c2-4a40-c2ef-2dfc1f04b167"
      },
      "execution_count": null,
      "outputs": [
        {
          "output_type": "stream",
          "name": "stderr",
          "text": [
            "......\n",
            "----------------------------------------------------------------------\n",
            "Ran 6 tests in 0.011s\n",
            "\n",
            "OK\n"
          ]
        }
      ]
    }
  ]
}